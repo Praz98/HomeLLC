{
  "nbformat": 4,
  "nbformat_minor": 0,
  "metadata": {
    "colab": {
      "provenance": [],
      "authorship_tag": "ABX9TyPMZN9v9Jb/U7JpNyl3RTni",
      "include_colab_link": true
    },
    "kernelspec": {
      "name": "python3",
      "display_name": "Python 3"
    },
    "language_info": {
      "name": "python"
    }
  },
  "cells": [
    {
      "cell_type": "markdown",
      "metadata": {
        "id": "view-in-github",
        "colab_type": "text"
      },
      "source": [
        "<a href=\"https://colab.research.google.com/github/Praz98/HomeLLC/blob/main/Feature_Engineering_HomeLLC.ipynb\" target=\"_parent\"><img src=\"https://colab.research.google.com/assets/colab-badge.svg\" alt=\"Open In Colab\"/></a>"
      ]
    },
    {
      "cell_type": "code",
      "execution_count": 1,
      "metadata": {
        "colab": {
          "base_uri": "https://localhost:8080/"
        },
        "id": "PCQrrFDLnZm3",
        "outputId": "37bd9bfc-38a2-46f1-bb6a-df72fe54fd13"
      },
      "outputs": [
        {
          "output_type": "stream",
          "name": "stdout",
          "text": [
            "Mounted at /content/drive\n"
          ]
        }
      ],
      "source": [
        "from google.colab import drive\n",
        "drive.mount('/content/drive')"
      ]
    },
    {
      "cell_type": "code",
      "source": [
        "import os\n",
        "import pandas as pd\n",
        "import seaborn as sns\n",
        "import numpy as np\n",
        "import scipy\n",
        "import matplotlib.pyplot as plt\n",
        "#importing libraries\n",
        "\n",
        "%matplotlib inline\n"
      ],
      "metadata": {
        "id": "sJ8N4HFZn9qC"
      },
      "execution_count": 2,
      "outputs": []
    },
    {
      "cell_type": "code",
      "source": [
        "final_df = pd.read_csv(\"/content/drive/MyDrive/cleaned data/merged_data.csv\")\n",
        "final_df.rename(columns = {\"Unnamed: 0\":\"DATE\"},inplace=True)\n",
        "final_df.set_index(final_df[\"DATE\"],inplace=True)\n",
        "final_df.drop(columns = [\"DATE\"],inplace=True)"
      ],
      "metadata": {
        "id": "fq1mXd0boYJr"
      },
      "execution_count": 24,
      "outputs": []
    },
    {
      "cell_type": "code",
      "source": [
        "dfn = final_df.copy()"
      ],
      "metadata": {
        "id": "7hfB8ohsotag"
      },
      "execution_count": 25,
      "outputs": []
    },
    {
      "cell_type": "code",
      "source": [
        "dfn.columns"
      ],
      "metadata": {
        "colab": {
          "base_uri": "https://localhost:8080/"
        },
        "id": "6bIwTAauoxsd",
        "outputId": "c67f1b32-2d28-40c7-c3e3-2ab6ed3ac96b"
      },
      "execution_count": 26,
      "outputs": [
        {
          "output_type": "execute_result",
          "data": {
            "text/plain": [
              "Index(['avg_expenditure_55_64', 'avg_expenditure_35_44',\n",
              "       'avg_expenditure_25_34', 'avg_expenditure_45_54', 'CPI',\n",
              "       'employees_construction', 'HCAI_GOVT', 'houses-for-sale-to-sold',\n",
              "       'HCAI_PP', 'HCAI_GSE', 'MORTGAGE30US', 'GDP', 'PERMIT',\n",
              "       'pvt_owned_house_under_const', 'personal_saving_rate', 'population',\n",
              "       'house_units_completed', 'retail_sales_home_furnishing_stores',\n",
              "       'UNRATE', 'unrate_construction', 'industrial_production_cement',\n",
              "       'producer_price_index_concrete_brick', 'job_gains_private',\n",
              "       'residential_const_val', 'target', 'homeownership',\n",
              "       'nonresidential_const_val'],\n",
              "      dtype='object')"
            ]
          },
          "metadata": {},
          "execution_count": 26
        }
      ]
    },
    {
      "cell_type": "code",
      "source": [
        "# Log transformation to remove outliers\n",
        "dfn[\"unrate_construction\"] = np.log(dfn[\"unrate_construction\"])\n",
        "dfn[\"houses-for-sale-to-sold\"] = np.log(dfn[\"houses-for-sale-to-sold\"])\n",
        "\n",
        "\n",
        "dfn[\"avg_expenditure_35_54\"] = dfn[\"avg_expenditure_35_44\"] + dfn[\"avg_expenditure_45_54\"]\n",
        "\n",
        "# Adding GDP per capita\n",
        "dfn[\"gdp_per_capita\"] = dfn[\"GDP\"] / dfn[\"population\"]"
      ],
      "metadata": {
        "id": "-6X89T2upw1G"
      },
      "execution_count": 27,
      "outputs": []
    },
    {
      "cell_type": "code",
      "source": [
        "# Adding a categorical variable to gauge CPI TREND\n",
        "dfn[\"CPI_TREND\"] = dfn[\"CPI\"].apply(lambda x : \"UP\" if x > 0 else \"DOWN\")\n",
        "dfn[\"CPI_TREND\"].value_counts()"
      ],
      "metadata": {
        "colab": {
          "base_uri": "https://localhost:8080/"
        },
        "id": "XPCoXQzep-9S",
        "outputId": "e2c4c357-f77e-47aa-b084-1edd0458060c"
      },
      "execution_count": 28,
      "outputs": [
        {
          "output_type": "execute_result",
          "data": {
            "text/plain": [
              "UP      180\n",
              "DOWN     72\n",
              "Name: CPI_TREND, dtype: int64"
            ]
          },
          "metadata": {},
          "execution_count": 28
        }
      ]
    },
    {
      "cell_type": "code",
      "source": [
        "dfn[\"GDP_RATE\"] = np.log(dfn[\"GDP\"]/dfn[\"GDP\"].shift(12))"
      ],
      "metadata": {
        "id": "Hveyu3dyqGHo"
      },
      "execution_count": 29,
      "outputs": []
    },
    {
      "cell_type": "code",
      "source": [
        "# Adding a categorical variable to gauge GDP TREND\n",
        "dfn[\"GDP_TREND\"] = dfn[\"GDP_RATE\"].apply(lambda x : \"UP\" if x > 0 else \"DOWN\")"
      ],
      "metadata": {
        "id": "UrB74m7gqMbS"
      },
      "execution_count": 30,
      "outputs": []
    },
    {
      "cell_type": "code",
      "source": [
        "dfn[\"EMP_CONST_RATE\"] = np.log(dfn[\"employees_construction\"]/dfn[\"employees_construction\"].shift(12))"
      ],
      "metadata": {
        "id": "J3VmQUT5qSkz"
      },
      "execution_count": 31,
      "outputs": []
    },
    {
      "cell_type": "code",
      "source": [
        "# Adding a categorical variable to gauge trend in number of construction employees\n",
        "dfn[\"EMP_CONST_TREND\"] = dfn[\"EMP_CONST_RATE\"].apply(lambda x : \"UP\" if x > 0 else \"DOWN\")"
      ],
      "metadata": {
        "id": "wRNgrb52qZc7"
      },
      "execution_count": 32,
      "outputs": []
    },
    {
      "cell_type": "code",
      "source": [
        "# Since HCAI_GOVT, HCAI_GSE AND HCAI_PP are highly collinear with each other, we are linearly combining them\n",
        "dfn[\"HCAI\"] = (dfn[\"HCAI_GOVT\"] + dfn[\"HCAI_GSE\"] + dfn[\"HCAI_PP\"])/3"
      ],
      "metadata": {
        "id": "bQba5FeXqexM"
      },
      "execution_count": 33,
      "outputs": []
    },
    {
      "cell_type": "code",
      "source": [
        "dfn[\"houses-for-sale-to-sold-rate\"] = np.log(dfn[\"houses-for-sale-to-sold\"]/dfn[\"houses-for-sale-to-sold\"].shift(12))"
      ],
      "metadata": {
        "id": "fdyUTrV-qn7f"
      },
      "execution_count": 34,
      "outputs": []
    },
    {
      "cell_type": "code",
      "source": [
        "dfn[\"HOUSES_S2S_TREND\"] = dfn[\"houses-for-sale-to-sold-rate\"].apply(lambda x : \"UP\" if x > 0 else \"DOWN\")"
      ],
      "metadata": {
        "id": "cmlsmqwZrAr4"
      },
      "execution_count": 35,
      "outputs": []
    },
    {
      "cell_type": "code",
      "source": [
        "for column in dfn.columns:\n",
        "    try:\n",
        "        temp_rate = np.log(dfn[column]/dfn[column].shift(12)).dropna()\n",
        "        temp_cum = dfn[column].cumsum()\n",
        "\n",
        "        temp_rate_cum = np.log(temp_cum/temp_cum.shift(12)).dropna()\n",
        "        print()\n",
        "        print(column,round(dfn.corr()[\"target\"][column],2))\n",
        "        trate12 = np.corrcoef(dfn[\"target\"][12:],temp_rate)[0,1]\n",
        "        print(f\"Correlation between target variable and 12 months change of rate {round(trate12,2)}\")\n",
        "\n",
        "        tcum = (np.corrcoef(dfn[\"target\"],temp_cum)[0,1])\n",
        "        print(f\"correlation cumulative {round(tcum,2) }\")\n",
        "\n",
        "        tcumrate = np.corrcoef(dfn[\"target\"][12:],temp_rate_cum)[0,1]\n",
        "        print(f\"correlation cumulative rate {round(tcumrate,2) }\")\n",
        "\n",
        "\n",
        "\n",
        "    except:\n",
        "        continue"
      ],
      "metadata": {
        "colab": {
          "base_uri": "https://localhost:8080/"
        },
        "id": "6LngNNNwrT9r",
        "outputId": "89337c52-f8c9-454d-b88c-91ccb485954b"
      },
      "execution_count": 36,
      "outputs": [
        {
          "output_type": "stream",
          "name": "stdout",
          "text": [
            "\n",
            "avg_expenditure_55_64 0.88\n",
            "Correlation between target variable and 12 months change of rate -0.12\n",
            "correlation cumulative 0.79\n",
            "correlation cumulative rate -0.55\n",
            "\n",
            "avg_expenditure_35_44 0.92\n",
            "Correlation between target variable and 12 months change of rate 0.2\n",
            "correlation cumulative 0.79\n",
            "correlation cumulative rate -0.54\n",
            "\n",
            "avg_expenditure_25_34 0.9\n",
            "Correlation between target variable and 12 months change of rate 0.26\n",
            "correlation cumulative 0.79\n",
            "correlation cumulative rate -0.55\n",
            "\n",
            "avg_expenditure_45_54 0.88\n",
            "Correlation between target variable and 12 months change of rate 0.06\n",
            "correlation cumulative 0.8\n",
            "correlation cumulative rate -0.55\n",
            "\n",
            "CPI -0.04\n",
            "\n",
            "employees_construction 0.5\n",
            "Correlation between target variable and 12 months change of rate 0.24\n",
            "correlation cumulative 0.79\n",
            "correlation cumulative rate -0.53\n",
            "\n",
            "HCAI_GOVT -0.43\n",
            "Correlation between target variable and 12 months change of rate 0.07\n",
            "correlation cumulative 0.78\n",
            "correlation cumulative rate -0.54\n",
            "\n",
            "houses-for-sale-to-sold 0.23\n",
            "Correlation between target variable and 12 months change of rate 0.14\n",
            "correlation cumulative 0.76\n",
            "correlation cumulative rate -0.56\n",
            "\n",
            "HCAI_PP -0.42\n",
            "Correlation between target variable and 12 months change of rate 0.07\n",
            "correlation cumulative 0.74\n",
            "correlation cumulative rate -0.54\n",
            "\n",
            "HCAI_GSE -0.18\n",
            "Correlation between target variable and 12 months change of rate 0.17\n",
            "correlation cumulative 0.77\n",
            "correlation cumulative rate -0.5\n",
            "\n",
            "MORTGAGE30US -0.59\n",
            "Correlation between target variable and 12 months change of rate 0.15\n",
            "correlation cumulative 0.78\n",
            "correlation cumulative rate -0.53\n",
            "\n",
            "GDP 0.84\n",
            "Correlation between target variable and 12 months change of rate -0.07\n",
            "correlation cumulative 0.79\n",
            "correlation cumulative rate -0.55\n",
            "\n",
            "PERMIT 0.03\n",
            "Correlation between target variable and 12 months change of rate -0.07\n",
            "correlation cumulative 0.83\n",
            "correlation cumulative rate -0.52\n",
            "\n",
            "pvt_owned_house_under_const 0.43\n",
            "Correlation between target variable and 12 months change of rate 0.13\n",
            "correlation cumulative 0.82\n",
            "correlation cumulative rate -0.51\n",
            "\n",
            "personal_saving_rate 0.42\n",
            "Correlation between target variable and 12 months change of rate 0.15\n",
            "correlation cumulative 0.81\n",
            "correlation cumulative rate -0.57\n",
            "\n",
            "population 0.78\n",
            "Correlation between target variable and 12 months change of rate -0.72\n",
            "correlation cumulative 0.79\n",
            "correlation cumulative rate -0.55\n",
            "\n",
            "house_units_completed -0.01\n",
            "Correlation between target variable and 12 months change of rate 0.12\n",
            "correlation cumulative 0.81\n",
            "correlation cumulative rate -0.52\n",
            "\n",
            "retail_sales_home_furnishing_stores 0.77\n",
            "Correlation between target variable and 12 months change of rate -0.06\n",
            "correlation cumulative 0.8\n",
            "correlation cumulative rate -0.54\n",
            "\n",
            "UNRATE -0.2\n",
            "Correlation between target variable and 12 months change of rate 0.02\n",
            "correlation cumulative 0.75\n",
            "correlation cumulative rate -0.63\n",
            "\n",
            "unrate_construction -0.39\n",
            "Correlation between target variable and 12 months change of rate 0.01\n",
            "correlation cumulative 0.76\n",
            "correlation cumulative rate -0.62\n",
            "\n",
            "industrial_production_cement -0.2\n",
            "Correlation between target variable and 12 months change of rate -0.01\n",
            "correlation cumulative 0.8\n",
            "correlation cumulative rate -0.54\n",
            "\n",
            "producer_price_index_concrete_brick 0.8\n",
            "Correlation between target variable and 12 months change of rate 0.39\n",
            "correlation cumulative 0.79\n",
            "correlation cumulative rate -0.55\n",
            "\n",
            "job_gains_private 0.03\n",
            "Correlation between target variable and 12 months change of rate 0.19\n",
            "correlation cumulative 0.8\n",
            "correlation cumulative rate -0.54\n",
            "\n",
            "residential_const_val 0.7\n",
            "Correlation between target variable and 12 months change of rate 0.03\n",
            "correlation cumulative 0.82\n",
            "correlation cumulative rate -0.51\n",
            "\n",
            "target 1.0\n",
            "Correlation between target variable and 12 months change of rate 0.07\n",
            "correlation cumulative 0.79\n",
            "correlation cumulative rate -0.54\n",
            "\n",
            "homeownership -0.38\n",
            "Correlation between target variable and 12 months change of rate 0.33\n",
            "correlation cumulative 0.79\n",
            "correlation cumulative rate -0.55\n",
            "\n",
            "nonresidential_const_val 0.81\n",
            "Correlation between target variable and 12 months change of rate 0.33\n",
            "correlation cumulative 0.79\n",
            "correlation cumulative rate -0.51\n",
            "\n",
            "avg_expenditure_35_54 0.9\n",
            "Correlation between target variable and 12 months change of rate 0.14\n",
            "correlation cumulative 0.8\n",
            "correlation cumulative rate -0.55\n",
            "\n",
            "gdp_per_capita 0.85\n",
            "Correlation between target variable and 12 months change of rate -0.02\n",
            "correlation cumulative 0.79\n",
            "correlation cumulative rate -0.55\n",
            "\n",
            "GDP_RATE -0.07\n",
            "\n",
            "EMP_CONST_RATE 0.24\n",
            "\n"
          ]
        },
        {
          "output_type": "stream",
          "name": "stderr",
          "text": [
            "<ipython-input-36-04c6f8634144>:8: FutureWarning: The default value of numeric_only in DataFrame.corr is deprecated. In a future version, it will default to False. Select only valid columns or specify the value of numeric_only to silence this warning.\n",
            "  print(column,round(dfn.corr()[\"target\"][column],2))\n",
            "/usr/local/lib/python3.10/dist-packages/pandas/core/arraylike.py:402: RuntimeWarning: divide by zero encountered in log\n",
            "  result = getattr(ufunc, method)(*inputs, **kwargs)\n",
            "/usr/local/lib/python3.10/dist-packages/pandas/core/arraylike.py:402: RuntimeWarning: invalid value encountered in log\n",
            "  result = getattr(ufunc, method)(*inputs, **kwargs)\n"
          ]
        },
        {
          "output_type": "stream",
          "name": "stdout",
          "text": [
            "HCAI -0.4\n",
            "Correlation between target variable and 12 months change of rate 0.09\n",
            "correlation cumulative 0.77\n",
            "correlation cumulative rate -0.54\n",
            "\n",
            "houses-for-sale-to-sold-rate 0.14\n"
          ]
        }
      ]
    },
    {
      "cell_type": "code",
      "source": [
        "dfn[\"industrial_production_cement_cum\"] = dfn[\"industrial_production_cement\"].cumsum()\n",
        "dfn[\"cpi_cum\"] = dfn[\"CPI\"].cumsum()\n",
        "\n",
        "dfn[\"houses-for-sale-to-sold-cum\"] = dfn[\"houses-for-sale-to-sold\"].cumsum()\n",
        "dfn[\"job_gains_private_cum\"] = dfn[\"job_gains_private\"].cumsum()\n",
        "dfn[\"pvt_owned_house_under_const_cum\"] = dfn[\"pvt_owned_house_under_const\"].cumsum()\n",
        "\n",
        "dfn[\"PERMIT_cum\"] = dfn[\"PERMIT\"].cumsum()\n",
        "\n",
        "dfn[\"house_units_completed_cum\"] = dfn[\"house_units_completed\"].cumsum()\n",
        "\n",
        "\n",
        "\n",
        "\n",
        "## Rate of change of industrial_production_cement_cum\n",
        "dfn[\"industrial_production_cement_rate\"] = np.log(dfn[\"industrial_production_cement_cum\"]/dfn[\"industrial_production_cement_cum\"].shift(12))\n",
        "\n",
        "dfn[\"pvt_owned_house_under_const_rate\"] = np.log(dfn[\"pvt_owned_house_under_const_cum\"]/dfn[\"pvt_owned_house_under_const_cum\"].shift(12))\n",
        "\n",
        "dfn[\"PERMIT_rate\"] = np.log(dfn[\"PERMIT_cum\"]/dfn[\"PERMIT_cum\"].shift(12))\n",
        "\n",
        "dfn[\"job_gains_private_rate\"] = np.log(dfn[\"job_gains_private_cum\"]/dfn[\"job_gains_private_cum\"].shift(12))\n",
        "\n",
        "\n",
        "dfn[\"pvt_owned_house_under_const_rate\"] = np.log(dfn[\"pvt_owned_house_under_const_cum\"]/dfn[\"pvt_owned_house_under_const_cum\"].shift(12))\n",
        "\n",
        "\n",
        "dfn[\"house_units_completed_rate\"] = np.log(dfn[\"house_units_completed_cum\"]/dfn[\"house_units_completed_cum\"].shift(12))\n",
        "\n",
        "\n",
        "dfn[\"job_gains_private_rate\"] = np.log(dfn[\"job_gains_private_cum\"]/dfn[\"job_gains_private_cum\"].shift(12))\n",
        "\n",
        "\n",
        "dfn[\"job_gains_private_rate\"] = np.log(dfn[\"job_gains_private_cum\"]/dfn[\"job_gains_private_cum\"].shift(12))\n"
      ],
      "metadata": {
        "id": "rwrI-qnwsUe7"
      },
      "execution_count": 37,
      "outputs": []
    },
    {
      "cell_type": "code",
      "source": [
        "dfn[\"PERMIT_TREND\"] =  dfn[\"PERMIT_rate\"].apply(lambda x : \"UP\" if x > 0 else \"DOWN\")\n",
        "dfn[\"job_gains_private_trend\"] =  dfn[\"job_gains_private_rate\"].apply(lambda x : \"UP\" if x > 0 else \"DOWN\")\n",
        "dfn[\"pvt_owned_house_under_const_trend\"] =  dfn[\"pvt_owned_house_under_const_rate\"].apply(lambda x : \"UP\" if x > 0 else \"DOWN\")\n",
        "\n",
        "dfn[\"house_units_completed_trend\"] =  dfn[\"house_units_completed_rate\"].apply(lambda x : \"UP\" if x > 0 else \"DOWN\")"
      ],
      "metadata": {
        "id": "8WiHyf7WthEV"
      },
      "execution_count": 38,
      "outputs": []
    },
    {
      "cell_type": "code",
      "source": [
        "dfn.corr()[\"target\"][abs(dfn.corr()[\"target\"])>0.5]\n",
        "dfn.to_csv(\"/content/drive/MyDrive/cleaned data/merged_added_features.csv\")"
      ],
      "metadata": {
        "id": "qNsg60HSt4Rf",
        "colab": {
          "base_uri": "https://localhost:8080/"
        },
        "outputId": "67fdaaa3-e434-49c9-d76c-11f1c4edc3c2"
      },
      "execution_count": 39,
      "outputs": [
        {
          "output_type": "stream",
          "name": "stderr",
          "text": [
            "<ipython-input-39-87fc488f1de6>:1: FutureWarning: The default value of numeric_only in DataFrame.corr is deprecated. In a future version, it will default to False. Select only valid columns or specify the value of numeric_only to silence this warning.\n",
            "  dfn.corr()[\"target\"][abs(dfn.corr()[\"target\"])>0.5]\n"
          ]
        }
      ]
    },
    {
      "cell_type": "code",
      "source": [
        "\n",
        "# Load your DataFrame from the file (assuming it's already loaded)\n",
        "# If not, replace this with your code to load the DataFrame\n",
        "dfn = pd.read_csv(\"/content/drive/MyDrive/cleaned data/merged_added_features.csv\")\n",
        "\n",
        "# Drop the column \"houses-for-sale-to-solde\"\n",
        "#dfn.drop(columns=[\"houses-for-sale-to-solde\"], inplace=True)\n",
        "\n",
        "# Save the modified DataFrame to a CSV file\n",
        "dfn.to_csv(\"/content/drive/MyDrive/cleaned data/merged_added_features.csv\", index=False)\n"
      ],
      "metadata": {
        "id": "A-KYETio-xB_"
      },
      "execution_count": 40,
      "outputs": []
    },
    {
      "cell_type": "code",
      "source": [
        "df = pd.read_csv(\"/content/drive/MyDrive/cleaned data/merged_added_features.csv\")\n",
        "df.columns"
      ],
      "metadata": {
        "colab": {
          "base_uri": "https://localhost:8080/"
        },
        "id": "csEQYc0SuRX-",
        "outputId": "77b46eb8-ee4a-48fa-f77a-50624907bb8a"
      },
      "execution_count": 41,
      "outputs": [
        {
          "output_type": "execute_result",
          "data": {
            "text/plain": [
              "Index(['DATE', 'avg_expenditure_55_64', 'avg_expenditure_35_44',\n",
              "       'avg_expenditure_25_34', 'avg_expenditure_45_54', 'CPI',\n",
              "       'employees_construction', 'HCAI_GOVT', 'houses-for-sale-to-sold',\n",
              "       'HCAI_PP', 'HCAI_GSE', 'MORTGAGE30US', 'GDP', 'PERMIT',\n",
              "       'pvt_owned_house_under_const', 'personal_saving_rate', 'population',\n",
              "       'house_units_completed', 'retail_sales_home_furnishing_stores',\n",
              "       'UNRATE', 'unrate_construction', 'industrial_production_cement',\n",
              "       'producer_price_index_concrete_brick', 'job_gains_private',\n",
              "       'residential_const_val', 'target', 'homeownership',\n",
              "       'nonresidential_const_val', 'avg_expenditure_35_54', 'gdp_per_capita',\n",
              "       'CPI_TREND', 'GDP_RATE', 'GDP_TREND', 'EMP_CONST_RATE',\n",
              "       'EMP_CONST_TREND', 'HCAI', 'houses-for-sale-to-sold-rate',\n",
              "       'HOUSES_S2S_TREND', 'industrial_production_cement_cum', 'cpi_cum',\n",
              "       'houses-for-sale-to-sold-cum', 'job_gains_private_cum',\n",
              "       'pvt_owned_house_under_const_cum', 'PERMIT_cum',\n",
              "       'house_units_completed_cum', 'industrial_production_cement_rate',\n",
              "       'pvt_owned_house_under_const_rate', 'PERMIT_rate',\n",
              "       'job_gains_private_rate', 'house_units_completed_rate', 'PERMIT_TREND',\n",
              "       'job_gains_private_trend', 'pvt_owned_house_under_const_trend',\n",
              "       'house_units_completed_trend'],\n",
              "      dtype='object')"
            ]
          },
          "metadata": {},
          "execution_count": 41
        }
      ]
    }
  ]
}